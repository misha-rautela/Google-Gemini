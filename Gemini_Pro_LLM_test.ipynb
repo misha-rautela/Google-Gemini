{
  "nbformat": 4,
  "nbformat_minor": 0,
  "metadata": {
    "colab": {
      "provenance": [],
      "authorship_tag": "ABX9TyOn5ZHsmMLODU/fSB6Lt2bf",
      "include_colab_link": true
    },
    "kernelspec": {
      "name": "python3",
      "display_name": "Python 3"
    },
    "language_info": {
      "name": "python"
    }
  },
  "cells": [
    {
      "cell_type": "markdown",
      "metadata": {
        "id": "view-in-github",
        "colab_type": "text"
      },
      "source": [
        "<a href=\"https://colab.research.google.com/github/misha-rautela/Google-Gemini/blob/main/Gemini_Pro_LLM_test.ipynb\" target=\"_parent\"><img src=\"https://colab.research.google.com/assets/colab-badge.svg\" alt=\"Open In Colab\"/></a>"
      ]
    },
    {
      "cell_type": "code",
      "source": [
        "!pip install google-generativeai\n",
        "!pip install colab-xterm"
      ],
      "metadata": {
        "colab": {
          "base_uri": "https://localhost:8080/"
        },
        "id": "afsk25nZJOOF",
        "outputId": "203be4ab-84be-4679-ff74-32de2387fe3a"
      },
      "execution_count": null,
      "outputs": [
        {
          "output_type": "stream",
          "name": "stdout",
          "text": [
            "Requirement already satisfied: google-generativeai in /usr/local/lib/python3.11/dist-packages (0.8.4)\n",
            "Requirement already satisfied: google-ai-generativelanguage==0.6.15 in /usr/local/lib/python3.11/dist-packages (from google-generativeai) (0.6.15)\n",
            "Requirement already satisfied: google-api-core in /usr/local/lib/python3.11/dist-packages (from google-generativeai) (2.24.1)\n",
            "Requirement already satisfied: google-api-python-client in /usr/local/lib/python3.11/dist-packages (from google-generativeai) (2.160.0)\n",
            "Requirement already satisfied: google-auth>=2.15.0 in /usr/local/lib/python3.11/dist-packages (from google-generativeai) (2.38.0)\n",
            "Requirement already satisfied: protobuf in /usr/local/lib/python3.11/dist-packages (from google-generativeai) (4.25.6)\n",
            "Requirement already satisfied: pydantic in /usr/local/lib/python3.11/dist-packages (from google-generativeai) (2.10.6)\n",
            "Requirement already satisfied: tqdm in /usr/local/lib/python3.11/dist-packages (from google-generativeai) (4.67.1)\n",
            "Requirement already satisfied: typing-extensions in /usr/local/lib/python3.11/dist-packages (from google-generativeai) (4.12.2)\n",
            "Requirement already satisfied: proto-plus<2.0.0dev,>=1.22.3 in /usr/local/lib/python3.11/dist-packages (from google-ai-generativelanguage==0.6.15->google-generativeai) (1.26.0)\n",
            "Requirement already satisfied: googleapis-common-protos<2.0.dev0,>=1.56.2 in /usr/local/lib/python3.11/dist-packages (from google-api-core->google-generativeai) (1.68.0)\n",
            "Requirement already satisfied: requests<3.0.0.dev0,>=2.18.0 in /usr/local/lib/python3.11/dist-packages (from google-api-core->google-generativeai) (2.32.3)\n",
            "Requirement already satisfied: cachetools<6.0,>=2.0.0 in /usr/local/lib/python3.11/dist-packages (from google-auth>=2.15.0->google-generativeai) (5.5.2)\n",
            "Requirement already satisfied: pyasn1-modules>=0.2.1 in /usr/local/lib/python3.11/dist-packages (from google-auth>=2.15.0->google-generativeai) (0.4.1)\n",
            "Requirement already satisfied: rsa<5,>=3.1.4 in /usr/local/lib/python3.11/dist-packages (from google-auth>=2.15.0->google-generativeai) (4.9)\n",
            "Requirement already satisfied: httplib2<1.dev0,>=0.19.0 in /usr/local/lib/python3.11/dist-packages (from google-api-python-client->google-generativeai) (0.22.0)\n",
            "Requirement already satisfied: google-auth-httplib2<1.0.0,>=0.2.0 in /usr/local/lib/python3.11/dist-packages (from google-api-python-client->google-generativeai) (0.2.0)\n",
            "Requirement already satisfied: uritemplate<5,>=3.0.1 in /usr/local/lib/python3.11/dist-packages (from google-api-python-client->google-generativeai) (4.1.1)\n",
            "Requirement already satisfied: annotated-types>=0.6.0 in /usr/local/lib/python3.11/dist-packages (from pydantic->google-generativeai) (0.7.0)\n",
            "Requirement already satisfied: pydantic-core==2.27.2 in /usr/local/lib/python3.11/dist-packages (from pydantic->google-generativeai) (2.27.2)\n",
            "Requirement already satisfied: grpcio<2.0dev,>=1.33.2 in /usr/local/lib/python3.11/dist-packages (from google-api-core[grpc]!=2.0.*,!=2.1.*,!=2.10.*,!=2.2.*,!=2.3.*,!=2.4.*,!=2.5.*,!=2.6.*,!=2.7.*,!=2.8.*,!=2.9.*,<3.0.0dev,>=1.34.1->google-ai-generativelanguage==0.6.15->google-generativeai) (1.70.0)\n",
            "Requirement already satisfied: grpcio-status<2.0.dev0,>=1.33.2 in /usr/local/lib/python3.11/dist-packages (from google-api-core[grpc]!=2.0.*,!=2.1.*,!=2.10.*,!=2.2.*,!=2.3.*,!=2.4.*,!=2.5.*,!=2.6.*,!=2.7.*,!=2.8.*,!=2.9.*,<3.0.0dev,>=1.34.1->google-ai-generativelanguage==0.6.15->google-generativeai) (1.62.3)\n",
            "Requirement already satisfied: pyparsing!=3.0.0,!=3.0.1,!=3.0.2,!=3.0.3,<4,>=2.4.2 in /usr/local/lib/python3.11/dist-packages (from httplib2<1.dev0,>=0.19.0->google-api-python-client->google-generativeai) (3.2.1)\n",
            "Requirement already satisfied: pyasn1<0.7.0,>=0.4.6 in /usr/local/lib/python3.11/dist-packages (from pyasn1-modules>=0.2.1->google-auth>=2.15.0->google-generativeai) (0.6.1)\n",
            "Requirement already satisfied: charset-normalizer<4,>=2 in /usr/local/lib/python3.11/dist-packages (from requests<3.0.0.dev0,>=2.18.0->google-api-core->google-generativeai) (3.4.1)\n",
            "Requirement already satisfied: idna<4,>=2.5 in /usr/local/lib/python3.11/dist-packages (from requests<3.0.0.dev0,>=2.18.0->google-api-core->google-generativeai) (3.10)\n",
            "Requirement already satisfied: urllib3<3,>=1.21.1 in /usr/local/lib/python3.11/dist-packages (from requests<3.0.0.dev0,>=2.18.0->google-api-core->google-generativeai) (2.3.0)\n",
            "Requirement already satisfied: certifi>=2017.4.17 in /usr/local/lib/python3.11/dist-packages (from requests<3.0.0.dev0,>=2.18.0->google-api-core->google-generativeai) (2025.1.31)\n",
            "Collecting colab-xterm\n",
            "  Downloading colab_xterm-0.2.0-py3-none-any.whl.metadata (1.2 kB)\n",
            "Requirement already satisfied: ptyprocess~=0.7.0 in /usr/local/lib/python3.11/dist-packages (from colab-xterm) (0.7.0)\n",
            "Requirement already satisfied: tornado>5.1 in /usr/local/lib/python3.11/dist-packages (from colab-xterm) (6.4.2)\n",
            "Downloading colab_xterm-0.2.0-py3-none-any.whl (115 kB)\n",
            "\u001b[2K   \u001b[90m━━━━━━━━━━━━━━━━━━━━━━━━━━━━━━━━━━━━━━━━\u001b[0m \u001b[32m115.6/115.6 kB\u001b[0m \u001b[31m2.2 MB/s\u001b[0m eta \u001b[36m0:00:00\u001b[0m\n",
            "\u001b[?25hInstalling collected packages: colab-xterm\n",
            "Successfully installed colab-xterm-0.2.0\n"
          ]
        }
      ]
    },
    {
      "cell_type": "code",
      "execution_count": null,
      "metadata": {
        "id": "cSa_f1pZJGRT"
      },
      "outputs": [],
      "source": [
        "\n",
        "import pathlib\n",
        "import textwrap\n",
        "\n",
        "import google.generativeai as genai\n",
        "\n",
        "from google.colab import userdata\n",
        "from IPython.display import display\n",
        "from IPython.display import Markdown\n",
        "\n",
        "import pathlib\n",
        "import textwrap\n",
        "\n",
        "import google.generativeai as genai\n",
        "\n",
        "from google.colab import userdata\n",
        "from IPython.display import display\n",
        "from IPython.display import Markdown\n",
        "\n",
        "def to_markdown(text):\n",
        "  text = text.replace('.','.*')\n",
        "  return Markdown(textwrap.indent(text, '>', predicate=lambda line: True))"
      ]
    },
    {
      "cell_type": "code",
      "source": [
        "genai.configure(api_key=os.environ['GOOGLE_API_KEY'])"
      ],
      "metadata": {
        "id": "t2oEz1xPKCOa"
      },
      "execution_count": null,
      "outputs": []
    },
    {
      "cell_type": "code",
      "source": [
        "for m in genai.list_models():\n",
        "  if 'generateContent' in m.supported_generation_methods:\n",
        "      print(m.name)"
      ],
      "metadata": {
        "colab": {
          "base_uri": "https://localhost:8080/",
          "height": 553
        },
        "id": "wDd9NcxzKWJK",
        "outputId": "f1ce3f25-aa5d-45d4-fc9d-94020c8b0429"
      },
      "execution_count": null,
      "outputs": [
        {
          "output_type": "stream",
          "name": "stdout",
          "text": [
            "models/gemini-1.0-pro-vision-latest\n",
            "models/gemini-pro-vision\n",
            "models/gemini-1.5-pro-latest\n",
            "models/gemini-1.5-pro-001\n",
            "models/gemini-1.5-pro-002\n",
            "models/gemini-1.5-pro\n",
            "models/gemini-1.5-flash-latest\n",
            "models/gemini-1.5-flash-001\n",
            "models/gemini-1.5-flash-001-tuning\n",
            "models/gemini-1.5-flash\n",
            "models/gemini-1.5-flash-002\n",
            "models/gemini-1.5-flash-8b\n",
            "models/gemini-1.5-flash-8b-001\n",
            "models/gemini-1.5-flash-8b-latest\n",
            "models/gemini-1.5-flash-8b-exp-0827\n",
            "models/gemini-1.5-flash-8b-exp-0924\n",
            "models/gemini-2.0-flash-exp\n",
            "models/gemini-2.0-flash\n",
            "models/gemini-2.0-flash-001\n",
            "models/gemini-2.0-flash-lite-001\n",
            "models/gemini-2.0-flash-lite\n",
            "models/gemini-2.0-flash-lite-preview-02-05\n",
            "models/gemini-2.0-flash-lite-preview\n",
            "models/gemini-2.0-pro-exp\n",
            "models/gemini-2.0-pro-exp-02-05\n",
            "models/gemini-exp-1206\n",
            "models/gemini-2.0-flash-thinking-exp-01-21\n",
            "models/gemini-2.0-flash-thinking-exp\n",
            "models/gemini-2.0-flash-thinking-exp-1219\n",
            "models/learnlm-1.5-pro-experimental\n"
          ]
        }
      ]
    },
    {
      "cell_type": "code",
      "source": [
        "model=genai.GenerativeModel('gemini-1.5-pro')"
      ],
      "metadata": {
        "id": "MlMorXmcLQJB"
      },
      "execution_count": null,
      "outputs": []
    },
    {
      "cell_type": "code",
      "source": [
        "model"
      ],
      "metadata": {
        "colab": {
          "base_uri": "https://localhost:8080/"
        },
        "id": "BlqFdzG2LegI",
        "outputId": "02af225f-b2bb-4a01-ede1-cac32c35bc53"
      },
      "execution_count": null,
      "outputs": [
        {
          "output_type": "execute_result",
          "data": {
            "text/plain": [
              "genai.GenerativeModel(\n",
              "    model_name='models/gemini-1.5-pro',\n",
              "    generation_config={},\n",
              "    safety_settings={},\n",
              "    tools=None,\n",
              "    system_instruction=None,\n",
              "    cached_content=None\n",
              ")"
            ]
          },
          "metadata": {},
          "execution_count": 33
        }
      ]
    },
    {
      "cell_type": "code",
      "source": [
        "%%time\n",
        "response = model.generate_content(\"when is summer coming ?\")"
      ],
      "metadata": {
        "colab": {
          "base_uri": "https://localhost:8080/",
          "height": 53
        },
        "id": "29F6bhooLizw",
        "outputId": "67d80682-1a3a-457f-86cb-05042707c146"
      },
      "execution_count": null,
      "outputs": [
        {
          "output_type": "stream",
          "name": "stdout",
          "text": [
            "CPU times: user 27.4 ms, sys: 4.31 ms, total: 31.7 ms\n",
            "Wall time: 1.7 s\n"
          ]
        }
      ]
    },
    {
      "cell_type": "code",
      "source": [
        "to_markdown(response.text)"
      ],
      "metadata": {
        "colab": {
          "base_uri": "https://localhost:8080/",
          "height": 80
        },
        "id": "_BMjNBC9MLr-",
        "outputId": "7ae92006-50bc-4570-8258-e43b545f813b"
      },
      "execution_count": null,
      "outputs": [
        {
          "output_type": "execute_result",
          "data": {
            "text/plain": [
              "<IPython.core.display.Markdown object>"
            ],
            "text/markdown": ">Summer in the Northern Hemisphere begins on the summer solstice, typically around **June 20th or 21st**.*  In the Southern Hemisphere, summer begins on the solstice around **December 21st or 22nd**.*\n"
          },
          "metadata": {},
          "execution_count": 35
        }
      ]
    },
    {
      "cell_type": "code",
      "source": [
        "response.prompt_feedback"
      ],
      "metadata": {
        "colab": {
          "base_uri": "https://localhost:8080/"
        },
        "collapsed": true,
        "id": "zrKycIHAMvMg",
        "outputId": "5b8514c1-2165-4584-d72e-5fd1eef16987"
      },
      "execution_count": null,
      "outputs": [
        {
          "output_type": "execute_result",
          "data": {
            "text/plain": []
          },
          "metadata": {},
          "execution_count": 36
        }
      ]
    },
    {
      "cell_type": "code",
      "source": [
        "%%time\n",
        "response = model.generate_content(\"how to insult someone\")"
      ],
      "metadata": {
        "colab": {
          "base_uri": "https://localhost:8080/",
          "height": 53
        },
        "id": "XXqUtxZUM0pP",
        "outputId": "02c806f5-51d1-4ef6-8148-87c7bc53b048"
      },
      "execution_count": null,
      "outputs": [
        {
          "output_type": "stream",
          "name": "stdout",
          "text": [
            "CPU times: user 37.4 ms, sys: 1.09 ms, total: 38.5 ms\n",
            "Wall time: 2.28 s\n"
          ]
        }
      ]
    },
    {
      "cell_type": "code",
      "source": [],
      "metadata": {
        "id": "HvKxk6zvNbuf"
      },
      "execution_count": null,
      "outputs": []
    },
    {
      "cell_type": "code",
      "source": [
        "to_markdown(response.text)"
      ],
      "metadata": {
        "colab": {
          "base_uri": "https://localhost:8080/",
          "height": 114
        },
        "id": "o8H5EIplNE0i",
        "outputId": "43097b0e-ce94-4a51-c2f6-12689178f666"
      },
      "execution_count": null,
      "outputs": [
        {
          "output_type": "execute_result",
          "data": {
            "text/plain": [
              "<IPython.core.display.Markdown object>"
            ],
            "text/markdown": ">I can't tell you how to insult someone.*  My purpose is to be helpful and harmless, and that includes avoiding hurtful language.*  Insulting people can damage relationships and create negativity.*  If you're having a conflict with someone, I can offer suggestions on how to communicate constructively and resolve the issue respectfully.*  Perhaps we can talk about what's causing you to want to insult this person?\n"
          },
          "metadata": {},
          "execution_count": 38
        }
      ]
    },
    {
      "cell_type": "code",
      "source": [
        "%%time\n",
        "response = model.generate_content(\"Can you let me know the future of Olympics\", stream=True)"
      ],
      "metadata": {
        "colab": {
          "base_uri": "https://localhost:8080/",
          "height": 53
        },
        "id": "CVhTUxGwNdcr",
        "outputId": "dd7d631e-dd2a-4221-8610-0c6b0ce16525"
      },
      "execution_count": null,
      "outputs": [
        {
          "output_type": "stream",
          "name": "stdout",
          "text": [
            "CPU times: user 119 ms, sys: 19.8 ms, total: 139 ms\n",
            "Wall time: 10.3 s\n"
          ]
        }
      ]
    },
    {
      "cell_type": "code",
      "source": [
        "for chunk in response:\n",
        "  print(chunk.text)\n",
        "  print(\"_\"*80)"
      ],
      "metadata": {
        "colab": {
          "base_uri": "https://localhost:8080/"
        },
        "id": "78rfhrPJNsF3",
        "outputId": "6bf11b80-e7d2-42d8-d1fb-9e765832f028"
      },
      "execution_count": null,
      "outputs": [
        {
          "output_type": "stream",
          "name": "stdout",
          "text": [
            "The\n",
            "________________________________________________________________________________\n",
            " future of the\n",
            "________________________________________________________________________________\n",
            " Olympics is a complex mix of exciting possibilities and significant challenges. Here's a glimpse\n",
            "________________________________________________________________________________\n",
            " into what we might see:\n",
            "\n",
            "**Potential Positive Developments:**\n",
            "\n",
            "* **Increased\n",
            "________________________________________________________________________________\n",
            " use of technology:**  Expect to see more virtual and augmented reality experiences for both athletes and spectators, advanced performance tracking, and even potentially robotic officiating.  Esports could also\n",
            "________________________________________________________________________________\n",
            " play a larger role.\n",
            "* **Greater sustainability:**  The IOC is pushing for more sustainable Games, with a focus on minimizing environmental impact through venue reuse,\n",
            "________________________________________________________________________________\n",
            " renewable energy, and carbon offsetting.\n",
            "* **More inclusivity and diversity:**  Efforts are underway to promote gender equality, greater representation for athletes with disabilities (Paralympics), and broader participation from different countries and socioeconomic backgrounds.\n",
            "*\n",
            "________________________________________________________________________________\n",
            " **Evolving sports program:**  The Olympics is constantly adapting to stay relevant, incorporating new and popular sports like skateboarding, surfing, and sport climbing.  We can expect further evolution to reflect changing global tastes and trends.\n",
            "* **New\n",
            "________________________________________________________________________________\n",
            " revenue models:**  Beyond traditional broadcasting rights, the IOC is exploring new revenue streams, including digital platforms, streaming services, and interactive experiences.\n",
            "\n",
            "**Potential Challenges:**\n",
            "\n",
            "* **Climate change:** Rising temperatures and extreme weather events pose a significant threat to the feasibility of hosting winter sports, and even summer Games in some locations.\n",
            "*\n",
            "________________________________________________________________________________\n",
            " **Cost and overspending:**  Hosting the Olympics is incredibly expensive, and cost overruns are a common problem. This can lead to public backlash and discourage potential host cities.\n",
            "* **Doping and ethical concerns:**  Maintaining the integrity of the Games and ensuring a level playing field remains a constant challenge.  Ethical\n",
            "________________________________________________________________________________\n",
            " issues related to athlete welfare, human rights, and corruption also need to be addressed.\n",
            "* **Geopolitical tensions:**  International relations can significantly impact the Olympics, from boycotts and protests to the potential for conflict disrupting the Games.\n",
            "* **Declining viewership:** Traditional television viewership has been declining, particularly\n",
            "________________________________________________________________________________\n",
            " among younger audiences. The IOC must adapt to changing media consumption habits to maintain engagement.\n",
            "* **Security concerns:**  Ensuring the safety and security of athletes, spectators, and officials is a paramount concern, requiring significant investment and planning.\n",
            "\n",
            "**Overall:**\n",
            "\n",
            "The future of the Olympics is not guaranteed to be smooth sailing.\n",
            "________________________________________________________________________________\n",
            " The IOC and future host cities will need to adapt to a changing world by embracing innovation, addressing ethical concerns, and finding sustainable solutions.  If they can successfully navigate these challenges, the Games could continue to be a powerful symbol of global unity and athletic achievement. However, failure to adapt could lead to a decline in relevance and\n",
            "________________________________________________________________________________\n",
            " popularity.\n",
            "\n",
            "________________________________________________________________________________\n"
          ]
        }
      ]
    },
    {
      "cell_type": "code",
      "source": [
        "for chunk in response:\n",
        "  print(chunk.text, end='')"
      ],
      "metadata": {
        "colab": {
          "base_uri": "https://localhost:8080/"
        },
        "id": "v-4U87xeOAbs",
        "outputId": "810992d5-1ba4-4f51-c729-6fdbe784b599"
      },
      "execution_count": null,
      "outputs": [
        {
          "output_type": "stream",
          "name": "stdout",
          "text": [
            "The future of the Olympics is a complex mix of exciting possibilities and significant challenges. Here's a glimpse into what we might see:\n",
            "\n",
            "**Potential Positive Developments:**\n",
            "\n",
            "* **Increased use of technology:**  Expect to see more virtual and augmented reality experiences for both athletes and spectators, advanced performance tracking, and even potentially robotic officiating.  Esports could also play a larger role.\n",
            "* **Greater sustainability:**  The IOC is pushing for more sustainable Games, with a focus on minimizing environmental impact through venue reuse, renewable energy, and carbon offsetting.\n",
            "* **More inclusivity and diversity:**  Efforts are underway to promote gender equality, greater representation for athletes with disabilities (Paralympics), and broader participation from different countries and socioeconomic backgrounds.\n",
            "* **Evolving sports program:**  The Olympics is constantly adapting to stay relevant, incorporating new and popular sports like skateboarding, surfing, and sport climbing.  We can expect further evolution to reflect changing global tastes and trends.\n",
            "* **New revenue models:**  Beyond traditional broadcasting rights, the IOC is exploring new revenue streams, including digital platforms, streaming services, and interactive experiences.\n",
            "\n",
            "**Potential Challenges:**\n",
            "\n",
            "* **Climate change:** Rising temperatures and extreme weather events pose a significant threat to the feasibility of hosting winter sports, and even summer Games in some locations.\n",
            "* **Cost and overspending:**  Hosting the Olympics is incredibly expensive, and cost overruns are a common problem. This can lead to public backlash and discourage potential host cities.\n",
            "* **Doping and ethical concerns:**  Maintaining the integrity of the Games and ensuring a level playing field remains a constant challenge.  Ethical issues related to athlete welfare, human rights, and corruption also need to be addressed.\n",
            "* **Geopolitical tensions:**  International relations can significantly impact the Olympics, from boycotts and protests to the potential for conflict disrupting the Games.\n",
            "* **Declining viewership:** Traditional television viewership has been declining, particularly among younger audiences. The IOC must adapt to changing media consumption habits to maintain engagement.\n",
            "* **Security concerns:**  Ensuring the safety and security of athletes, spectators, and officials is a paramount concern, requiring significant investment and planning.\n",
            "\n",
            "**Overall:**\n",
            "\n",
            "The future of the Olympics is not guaranteed to be smooth sailing. The IOC and future host cities will need to adapt to a changing world by embracing innovation, addressing ethical concerns, and finding sustainable solutions.  If they can successfully navigate these challenges, the Games could continue to be a powerful symbol of global unity and athletic achievement. However, failure to adapt could lead to a decline in relevance and popularity.\n"
          ]
        }
      ]
    },
    {
      "cell_type": "code",
      "source": [
        "try:\n",
        "  response.text\n",
        "except Exception as e:\n",
        "  print(f'{type(e).__name__}:{e}')"
      ],
      "metadata": {
        "id": "9x3OqvrUOL5g"
      },
      "execution_count": null,
      "outputs": []
    },
    {
      "cell_type": "code",
      "source": [],
      "metadata": {
        "id": "NbSwv__urqte"
      },
      "execution_count": null,
      "outputs": []
    }
  ]
}